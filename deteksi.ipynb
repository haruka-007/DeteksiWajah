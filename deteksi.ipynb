{
 "cells": [
  {
   "cell_type": "code",
   "execution_count": 1,
   "id": "906b8cd2",
   "metadata": {},
   "outputs": [],
   "source": [
    "## import library\n",
    "import cv2"
   ]
  },
  {
   "cell_type": "code",
   "execution_count": 2,
   "id": "f77ce4fc",
   "metadata": {},
   "outputs": [],
   "source": [
    "## import dataset \n",
    "face_cascade= cv2.CascadeClassifier(r'C:\\Users\\ACER\\face_det\\haarcascade_frontalface_default.xml')\n",
    "img=cv2.imread(r'C:\\Users\\ACER\\face_det\\face.jpg')"
   ]
  },
  {
   "cell_type": "code",
   "execution_count": 3,
   "id": "149918b7",
   "metadata": {},
   "outputs": [],
   "source": [
    "## Konversi gambar ke grayscale\n",
    "gray = cv2.cvtColor(img, cv2.COLOR_BGR2GRAY)\n",
    "faces = face_cascade.detectMultiScale(gray, 1.1, 4)"
   ]
  },
  {
   "cell_type": "code",
   "execution_count": 4,
   "id": "b9c8ba82",
   "metadata": {},
   "outputs": [],
   "source": [
    "## memberi gambar kotak\n",
    "for (x,y,w,h) in faces :\n",
    "    cv2.rectangle(img, (x,y), (x+w,y+h), (255,0,0), 2)"
   ]
  },
  {
   "cell_type": "code",
   "execution_count": 7,
   "id": "21f9f702",
   "metadata": {},
   "outputs": [
    {
     "data": {
      "text/plain": [
       "-1"
      ]
     },
     "execution_count": 7,
     "metadata": {},
     "output_type": "execute_result"
    }
   ],
   "source": [
    "## menampilkan hasil deteksi\n",
    "cv2.imshow('img', img)\n",
    "cv2.waitKey(30)"
   ]
  },
  {
   "cell_type": "code",
   "execution_count": null,
   "id": "76ea16fa",
   "metadata": {},
   "outputs": [],
   "source": []
  }
 ],
 "metadata": {
  "kernelspec": {
   "display_name": "Python 3 (ipykernel)",
   "language": "python",
   "name": "python3"
  },
  "language_info": {
   "codemirror_mode": {
    "name": "ipython",
    "version": 3
   },
   "file_extension": ".py",
   "mimetype": "text/x-python",
   "name": "python",
   "nbconvert_exporter": "python",
   "pygments_lexer": "ipython3",
   "version": "3.9.13"
  }
 },
 "nbformat": 4,
 "nbformat_minor": 5
}
